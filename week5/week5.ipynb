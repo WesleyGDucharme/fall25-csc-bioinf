{
 "cells": [
  {
   "cell_type": "code",
   "execution_count": 3,
   "id": "05e7db68",
   "metadata": {},
   "outputs": [
    {
     "name": "stdout",
     "output_type": "stream",
     "text": [
      "minimap2: 2.30-r1287\n",
      "samtools: samtools 1.22.1\n",
      "bcftools: bcftools 1.22\n",
      "extractHAIRS: OK\n",
      "HAPCUT2: OK\n",
      "BBMap reformat.sh: MISSING (used to split interleaved Illumina)\n",
      "Java: MISSING (only needed if we use fgbio for VCF conversion fallback)\n"
     ]
    }
   ],
   "source": [
    "%%bash\n",
    "#!/usr/bin/env bash\n",
    "set -euo pipefail\n",
    "\n",
    "mkdir -p week5_data refs align vcf phase igv tmp isec\n",
    "\n",
    ": \"${THREADS:=4}\"\n",
    "\n",
    "have() { command -v \"$1\" >/dev/null 2>&1; }\n",
    "\n",
    "echo \"minimap2: $(minimap2 --version)\"\n",
    "echo \"samtools: $(samtools --version | head -n1)\"\n",
    "echo \"bcftools: $(bcftools --version | head -n1)\"\n",
    "\n",
    "if have extractHAIRS; then\n",
    "  echo \"extractHAIRS: OK\"\n",
    "else\n",
    "  echo \"extractHAIRS: MISSING (needed later for phasing)\"\n",
    "fi\n",
    "\n",
    "if have HAPCUT2; then\n",
    "  echo \"HAPCUT2: OK\"\n",
    "else\n",
    "  echo \"HAPCUT2: MISSING (needed later for phasing)\"\n",
    "fi\n",
    "\n",
    "if have reformat.sh; then\n",
    "  echo \"BBMap reformat.sh: OK\"\n",
    "else\n",
    "  echo \"BBMap reformat.sh: MISSING (used to split interleaved Illumina)\"\n",
    "fi\n",
    "\n",
    "if have java; then\n",
    "  java -version 2>&1 | head -n1\n",
    "else\n",
    "  echo \"Java: MISSING (only needed if we use fgbio for VCF conversion fallback)\"\n",
    "fi"
   ]
  },
  {
   "cell_type": "markdown",
   "id": "27e0de5e",
   "metadata": {},
   "source": [
    "Defining gene BED (hg38, +2kb padding)"
   ]
  },
  {
   "cell_type": "code",
   "execution_count": 20,
   "id": "6f23549c",
   "metadata": {},
   "outputs": [],
   "source": [
    "%%bash\n",
    "cat > week5_data/cyp2c.hg38.bed <<'BED'\n",
    "chr10\\t94760662\\t94858282\\tCYP2C19\n",
    "chr10\\t94936658\\t94991091\\tCYP2C9\n",
    "chr10\\t95034773\\t95088997\\tCYP2C8\n",
    "BED"
   ]
  },
  {
   "cell_type": "markdown",
   "id": "63f660ff",
   "metadata": {},
   "source": [
    "Fetching chr10 reference FASTA (UCSC) + index + minimap2 index"
   ]
  },
  {
   "cell_type": "code",
   "execution_count": 7,
   "id": "c8f47609",
   "metadata": {},
   "outputs": [
    {
     "name": "stderr",
     "output_type": "stream",
     "text": [
      "  % Total    % Received % Xferd  Average Speed   Time    Time     Time  Current\n",
      "                                 Dload  Upload   Total   Spent    Left  Speed\n",
      "100 41.1M  100 41.1M    0     0  43.1M      0 --:--:-- --:--:-- --:--:-- 43.10375kM\n",
      "[M::mm_idx_gen::4.693*0.76] collected minimizers\n",
      "[M::mm_idx_gen::5.157*0.97] sorted minimizers\n",
      "[M::main::6.293*0.98] loaded/built the index for 1 target sequence(s)\n",
      "[M::mm_idx_stat] kmer size: 15; skip: 10; is_hpc: 0; #seq: 1\n",
      "[M::mm_idx_stat::6.417*0.98] distinct minimizers: 16061920 (79.91% are singletons); average occurrences: 1.563; average spacing: 5.329; total length: 133797422\n",
      "[M::main] Version: 2.30-r1287\n",
      "[M::main] CMD: minimap2 -d refs/chr10.mmi refs/chr10.fa\n",
      "[M::main] Real time: 6.464 sec; CPU: 6.365 sec; Peak RSS: 1.097 GB\n"
     ]
    }
   ],
   "source": [
    "%%bash\n",
    "\n",
    "set -euo pipefail\n",
    "REF=refs/chr10.fa.gz\n",
    "if [ ! -s \"$REF\" ]; then\n",
    "  curl -L -o \"$REF\" \"https://hgdownload.soe.ucsc.edu/goldenPath/hg38/chromosomes/chr10.fa.gz\"\n",
    "fi\n",
    "# bgzip is not required here; UCSC is already gz\n",
    "gunzip -c \"$REF\" > refs/chr10.fa\n",
    "samtools faidx refs/chr10.fa\n",
    "minimap2 -d refs/chr10.mmi refs/chr10.fa"
   ]
  },
  {
   "cell_type": "markdown",
   "id": "42c89e8c",
   "metadata": {},
   "source": [
    "Bringing reads into place"
   ]
  },
  {
   "cell_type": "code",
   "execution_count": 11,
   "id": "bb848d81",
   "metadata": {},
   "outputs": [
    {
     "name": "stdout",
     "output_type": "stream",
     "text": [
      "tmp/ contents:\n",
      "total 0\n",
      "lrwxrwxrwx 1 biouser biouser 53 Oct 28 16:40 illumina.fq.bz2 -> /home/biouser/fall25-csc-bioinf/week5/illumina.fq.bz2\n",
      "lrwxrwxrwx 1 biouser biouser 51 Oct 28 16:40 pacbio.fq.bz2 -> /home/biouser/fall25-csc-bioinf/week5/pacbio.fq.bz2\n"
     ]
    }
   ],
   "source": [
    "%%bash\n",
    "set -euo pipefail\n",
    "\n",
    "# We are already in week5/\n",
    "mkdir -p tmp\n",
    "\n",
    "# Illumina (interleaved) — prefer your local file\n",
    "if [ -s illumina.fq.bz2 ]; then\n",
    "  ln -sf \"$(pwd)/illumina.fq.bz2\" tmp/illumina.fq.bz2 || cp -f illumina.fq.bz2 tmp/illumina.fq.bz2\n",
    "else\n",
    "  curl -L -o tmp/illumina.fq.bz2 \"https://raw.githubusercontent.com/quinlan-lab/datasets/master/fastq/mini_pe_interleaved.fq.bz2\"\n",
    "fi\n",
    "\n",
    "# PacBio — prefer your local file\n",
    "if [ -s pacbio.fq.bz2 ]; then\n",
    "  ln -sf \"$(pwd)/pacbio.fq.bz2\" tmp/pacbio.fq.bz2 || cp -f pacbio.fq.bz2 tmp/pacbio.fq.bz2\n",
    "else\n",
    "  curl -L -o tmp/pacbio.fq.bz2 \"https://raw.githubusercontent.com/biocore-ntnu/pb-demo-data/main/mini_pacbio_like.fq.bz2\"\n",
    "fi\n",
    "\n",
    "echo \"tmp/ contents:\"\n",
    "ls -lh tmp"
   ]
  },
  {
   "cell_type": "markdown",
   "id": "34fbfbad",
   "metadata": {},
   "source": [
    "Decompress + (for Illumina) split interleaved -> R1/R2"
   ]
  },
  {
   "cell_type": "code",
   "execution_count": 12,
   "id": "ae64452b",
   "metadata": {},
   "outputs": [
    {
     "name": "stdout",
     "output_type": "stream",
     "text": [
      "R1 reads: 154753\n",
      "R2 reads: 154752\n"
     ]
    }
   ],
   "source": [
    "%%bash\n",
    "set -euo pipefail\n",
    "\n",
    "# Decompress (keeps originals)\n",
    "bunzip2 -fk tmp/illumina.fq.bz2\n",
    "bunzip2 -fk tmp/pacbio.fq.bz2\n",
    "\n",
    "# Split interleaved Illumina: 8-line blocks → first 4 lines R1, next 4 lines R2\n",
    "awk '\n",
    "  BEGIN{ r1=\"tmp/illumina_R1.fq\"; r2=\"tmp/illumina_R2.fq\" }\n",
    "  { blk = (NR-1) % 8; if (blk < 4) print >> r1; else print >> r2 }\n",
    "' tmp/illumina.fq\n",
    "\n",
    "echo \"R1 reads: $(($(wc -l < tmp/illumina_R1.fq)/4))\"\n",
    "echo \"R2 reads: $(($(wc -l < tmp/illumina_R2.fq)/4))\""
   ]
  },
  {
   "cell_type": "markdown",
   "id": "9ce25261",
   "metadata": {},
   "source": [
    "Aligning with minimap2 -> sorted, indexed BAMs"
   ]
  },
  {
   "cell_type": "code",
   "execution_count": 14,
   "id": "c1805731",
   "metadata": {},
   "outputs": [
    {
     "name": "stderr",
     "output_type": "stream",
     "text": [
      "[WARNING]\u001b[1;31m Indexing parameters (-k, -w or -H) overridden by parameters used in the prebuilt index.\u001b[0m\n",
      "[M::main::1.549*1.05] loaded/built the index for 1 target sequence(s)\n",
      "[M::mm_mapopt_update::1.549*1.05] mid_occ = 1000\n",
      "[M::mm_idx_stat] kmer size: 15; skip: 10; is_hpc: 0; #seq: 1\n",
      "[M::mm_idx_stat::1.668*1.05] distinct minimizers: 16061920 (79.91% are singletons); average occurrences: 1.563; average spacing: 5.329; total length: 133797422\n",
      "[W::mm_bseq_read_frag2]\u001b[1;31m query files have different number of records; extra records skipped.\u001b[0m\n",
      "[M::worker_pipeline::11.804*3.02] mapped 309504 sequences\n",
      "[M::main] Version: 2.30-r1287\n",
      "[M::main] CMD: minimap2 -t 4 -ax sr refs/chr10.mmi tmp/illumina_R1.fq tmp/illumina_R2.fq\n",
      "[M::main] Real time: 11.820 sec; CPU: 35.615 sec; Peak RSS: 0.944 GB\n",
      "[bam_sort_core] merging from 0 files and 4 in-memory blocks...\n",
      "[WARNING]\u001b[1;31m Indexing parameters (-k, -w or -H) overridden by parameters used in the prebuilt index.\u001b[0m\n",
      "[M::main::0.930*1.05] loaded/built the index for 1 target sequence(s)\n",
      "[M::mm_mapopt_update::1.163*1.05] mid_occ = 178\n",
      "[M::mm_idx_stat] kmer size: 15; skip: 10; is_hpc: 0; #seq: 1\n",
      "[M::mm_idx_stat::1.282*1.05] distinct minimizers: 16061920 (79.91% are singletons); average occurrences: 1.563; average spacing: 5.329; total length: 133797422\n",
      "[M::worker_pipeline::2.483*2.45] mapped 3063 sequences\n",
      "[M::main] Version: 2.30-r1287\n",
      "[M::main] CMD: minimap2 -t 4 -ax map-pb refs/chr10.mmi tmp/pacbio.fq\n",
      "[M::main] Real time: 2.499 sec; CPU: 6.100 sec; Peak RSS: 0.748 GB\n",
      "[bam_sort_core] merging from 0 files and 4 in-memory blocks...\n"
     ]
    },
    {
     "name": "stdout",
     "output_type": "stream",
     "text": [
      "Illumina BAM:\n",
      "309647 + 0 in total (QC-passed reads + QC-failed reads)\n",
      "309504 + 0 primary\n",
      "0 + 0 secondary\n",
      "143 + 0 supplementary\n",
      "0 + 0 duplicates\n",
      "\n",
      "PacBio BAM:\n",
      "3126 + 0 in total (QC-passed reads + QC-failed reads)\n",
      "3063 + 0 primary\n",
      "53 + 0 secondary\n",
      "10 + 0 supplementary\n",
      "0 + 0 duplicates\n"
     ]
    }
   ],
   "source": [
    "%%bash\n",
    "set -euo pipefail\n",
    "\n",
    "# Define a default for this cell (each %%bash is a new shell)\n",
    "THREADS=${THREADS:-4}\n",
    "\n",
    "R1=\"tmp/illumina_R1.fq\"\n",
    "R2=\"tmp/illumina_R2.fq\"\n",
    "PB=\"tmp/pacbio.fq\"\n",
    "REFIDX=\"refs/chr10.mmi\"\n",
    "\n",
    "# Sanity checks\n",
    "for f in \"$R1\" \"$R2\" \"$PB\" \"$REFIDX\"; do\n",
    "  if [ ! -s \"$f\" ]; then\n",
    "    echo \"Missing required file: $f\" >&2\n",
    "    exit 1\n",
    "  fi\n",
    "done\n",
    "\n",
    "# Align Illumina paired-end\n",
    "minimap2 -t \"$THREADS\" -ax sr \"$REFIDX\" \"$R1\" \"$R2\" \\\n",
    "  | samtools sort -@ \"$THREADS\" -o align/illumina.chr10.bam\n",
    "samtools index align/illumina.chr10.bam\n",
    "\n",
    "# Align PacBio (switch to map-hifi if these are HiFi/CCS reads)\n",
    "PRESET=\"map-pb\"\n",
    "minimap2 -t \"$THREADS\" -ax \"$PRESET\" \"$REFIDX\" \"$PB\" \\\n",
    "  | samtools sort -@ \"$THREADS\" -o align/pacbio.chr10.bam\n",
    "samtools index align/pacbio.chr10.bam\n",
    "\n",
    "# Quick peek so we know mapping happened\n",
    "echo \"Illumina BAM:\"\n",
    "samtools flagstat align/illumina.chr10.bam | head -n 5\n",
    "echo\n",
    "echo \"PacBio BAM:\"\n",
    "samtools flagstat align/pacbio.chr10.bam | head -n 5"
   ]
  },
  {
   "cell_type": "code",
   "execution_count": null,
   "id": "b8a9cd64",
   "metadata": {},
   "outputs": [
    {
     "name": "stdout",
     "output_type": "stream",
     "text": [
      "F1=chr10 | F2=94760662 | F3=94858282 | F4=CYP2C19\n",
      "F1=chr10 | F2=94936658 | F3=94991091 | F4=CYP2C9\n",
      "F1=chr10 | F2=95034773 | F3=95088997 | F4=CYP2C8\n"
     ]
    },
    {
     "name": "stdout",
     "output_type": "stream",
     "text": [
      "BED validation: OK\n"
     ]
    }
   ],
   "source": [
    "%%bash\n",
    "# Fixing BED file formatting issues\n",
    "\n",
    "set -euo pipefail\n",
    "\n",
    "# Recreate file using spaces, then canonicalize to tabs (so it's robust if you paste in a Windows terminal)\n",
    "cat > week5_data/cyp2c.hg38.bed <<'BED'\n",
    "chr10    94760662    94858282    CYP2C19\n",
    "chr10    94936658    94991091    CYP2C9\n",
    "chr10    95034773    95088997    CYP2C8\n",
    "BED\n",
    "\n",
    "# Convert any runs of spaces to a single TAB, remove CRLF if present, and ensure 4 fields\n",
    "awk -v OFS='\\t' '{$1=$1}1' week5_data/cyp2c.hg38.bed | sed 's/\\r$//' > week5_data/.tmp.bed\n",
    "mv week5_data/.tmp.bed week5_data/cyp2c.hg38.bed\n",
    "\n",
    "# Show the first lines with field separators so we can visually confirm tabs\n",
    "awk -F'\\t' '{printf(\"F1=%s | F2=%s | F3=%s | F4=%s\\n\",$1,$2,$3,$4)} NR==3{exit}' week5_data/cyp2c.hg38.bed\n",
    "\n",
    "# Validate: exactly 4 tab-separated fields per line, numeric coords, start<end\n",
    "awk -F'\\t' 'NF!=4{bad=1}\n",
    "            {if($2!~/^[0-9]+$/ || $3!~/^[0-9]+$/ || $2>=$3) bad=1}\n",
    "            END{ if(bad){print \"BED validation: FAIL\"; exit 1} else {print \"BED validation: OK\"} }' \\\n",
    "            week5_data/cyp2c.hg38.bed"
   ]
  },
  {
   "cell_type": "markdown",
   "id": "422f3bc2",
   "metadata": {},
   "source": [
    "Variant calling with bcftools (one VCF per sample)"
   ]
  },
  {
   "cell_type": "code",
   "execution_count": 25,
   "id": "5db1a888",
   "metadata": {},
   "outputs": [
    {
     "name": "stdout",
     "output_type": "stream",
     "text": [
      "chr10\t133797422\t307968\t1673\n"
     ]
    },
    {
     "name": "stderr",
     "output_type": "stream",
     "text": [
      "[mpileup] 1 samples in 1 input files\n",
      "Note: none of --samples-file, --ploidy or --ploidy-file given, assuming all sites are diploid\n",
      "[mpileup] maximum number of reads per input file set to -d 250\n",
      "Lines   total/split/joined/realigned/mismatch_removed/dup_removed/skipped:\t382/4/0/47/0/0/0\n"
     ]
    },
    {
     "name": "stdout",
     "output_type": "stream",
     "text": [
      "Wrote: vcf/illumina.vcf.gz\n",
      "chr10\t133797422\t3126\t0\n"
     ]
    },
    {
     "name": "stderr",
     "output_type": "stream",
     "text": [
      "[mpileup] 1 samples in 1 input files\n",
      "Note: none of --samples-file, --ploidy or --ploidy-file given, assuming all sites are diploid\n",
      "[mpileup] maximum number of reads per input file set to -d 250\n",
      "Lines   total/split/joined/realigned/mismatch_removed/dup_removed/skipped:\t354/7/0/52/0/0/0\n"
     ]
    },
    {
     "name": "stdout",
     "output_type": "stream",
     "text": [
      "Wrote: vcf/pacbio.vcf.gz\n"
     ]
    }
   ],
   "source": [
    "%%bash\n",
    "set -euo pipefail\n",
    "THREADS=${THREADS:-4}\n",
    "\n",
    "for SAMPLE in illumina pacbio; do\n",
    "  BAM=align/${SAMPLE}.chr10.bam\n",
    "  RAW=vcf/${SAMPLE}.raw.vcf.gz\n",
    "  OUT=vcf/${SAMPLE}.vcf.gz\n",
    "\n",
    "  # Quick sanity: contig names should include 'chr10'\n",
    "  samtools idxstats \"$BAM\" | head -n1\n",
    "\n",
    "  bcftools mpileup \\\n",
    "    --threads \"$THREADS\" \\\n",
    "    -f refs/chr10.fa \\\n",
    "    -Ou \\\n",
    "    -a AD,DP,SP \\\n",
    "    -R week5_data/cyp2c.hg38.bed \\\n",
    "    \"$BAM\" \\\n",
    "  | bcftools call \\\n",
    "      --threads \"$THREADS\" \\\n",
    "      -mv -Oz -o \"$RAW\"\n",
    "\n",
    "  bcftools norm --threads \"$THREADS\" -f refs/chr10.fa -m -both -Oz -o \"$OUT\" \"$RAW\"\n",
    "  tabix -p vcf \"$OUT\"\n",
    "\n",
    "  echo \"Wrote: $OUT\"\n",
    "done"
   ]
  },
  {
   "cell_type": "markdown",
   "id": "6efc720e",
   "metadata": {},
   "source": [
    "Variant records check"
   ]
  },
  {
   "cell_type": "code",
   "execution_count": 29,
   "id": "cc307dc7",
   "metadata": {},
   "outputs": [
    {
     "name": "stdout",
     "output_type": "stream",
     "text": [
      "Illumina variant rows: 386\n",
      "PacBio variant rows:   361\n"
     ]
    }
   ],
   "source": [
    "%%bash\n",
    "set -euo pipefail\n",
    "echo -n \"Illumina variant rows: \"\n",
    "zgrep -vc '^#' vcf/illumina.vcf.gz || true\n",
    "echo -n \"PacBio variant rows:   \"\n",
    "zgrep -vc '^#' vcf/pacbio.vcf.gz || true"
   ]
  },
  {
   "cell_type": "markdown",
   "id": "5226c00a",
   "metadata": {},
   "source": [
    "Phasing with HapCUT2"
   ]
  },
  {
   "cell_type": "code",
   "execution_count": 34,
   "id": "8360a5fa",
   "metadata": {},
   "outputs": [
    {
     "name": "stderr",
     "output_type": "stream",
     "text": [
      "WARNING: Ignoring --indels as indel phasing is default in WhatsHap 2.0+\n",
      "This is WhatsHap 2.8 running under Python 3.12.12\n",
      "Working on 1 sample from 1 family\n",
      "WARNING: Skipping duplicated position 94842393 on chromosome 'chr10' Hiding further warnings of this type, use --debug to show\n",
      "\n",
      "# Working on contig chr10 in individual align/illumina.chr10.bam\n",
      "Found 219 usable heterozygous variants (0 skipped due to missing genotypes)\n",
      "Number of supplementary alignments: 0\n",
      "Number of non-singleton groups: 545\n",
      "Skipped 0 groups\n",
      "Found 7586 reads covering 219 variants\n",
      "Kept 1171 reads that cover at least two variants each\n",
      "Selected 617 most phase-informative reads covering 156 variants\n",
      "Best-case phasing would result in 48 non-singleton phased blocks (0 singletons). \n",
      "Phasing 1 sample by solving the MEC problem ...\n",
      "Largest block contains 14 variants (9.0% of accessible variants) between position 95079296 and 95080679\n",
      "\n",
      "# Resource usage\n",
      "Maximum memory usage: 0.319 GB\n",
      "Time spent reading BAM/CRAM:                    2.7 s\n",
      "Time spent parsing VCF:                         0.0 s\n",
      "Time spent selecting reads:                     0.0 s\n",
      "Time spent phasing:                             0.2 s\n",
      "Time spent writing VCF:                         0.0 s\n",
      "Time spent finding components:                  0.0 s\n",
      "Time spent on rest:                             0.0 s\n",
      "Total elapsed time:                             3.0 s\n"
     ]
    },
    {
     "name": "stdout",
     "output_type": "stream",
     "text": [
      "Phased VCF: vcf/illumina.phased.vcf.gz\n"
     ]
    },
    {
     "name": "stderr",
     "output_type": "stream",
     "text": [
      "WARNING: Ignoring --indels as indel phasing is default in WhatsHap 2.0+\n",
      "This is WhatsHap 2.8 running under Python 3.12.12\n",
      "Working on 1 sample from 1 family\n",
      "WARNING: Skipping duplicated position 94851443 on chromosome 'chr10' Hiding further warnings of this type, use --debug to show\n",
      "\n",
      "# Working on contig chr10 in individual align/pacbio.chr10.bam\n",
      "Found 225 usable heterozygous variants (0 skipped due to missing genotypes)\n",
      "Number of supplementary alignments: 0\n",
      "Number of non-singleton groups: 0\n",
      "Skipped 0 groups\n",
      "Found 2831 reads covering 225 variants\n",
      "Kept 2473 reads that cover at least two variants each\n",
      "Selected 500 most phase-informative reads covering 225 variants\n",
      "Best-case phasing would result in 7 non-singleton phased blocks (0 singletons). \n",
      "Phasing 1 sample by solving the MEC problem ...\n",
      "Largest block contains 62 variants (27.6% of accessible variants) between position 95035703 and 95073358\n",
      "\n",
      "# Resource usage\n",
      "Maximum memory usage: 0.319 GB\n",
      "Time spent reading BAM/CRAM:                    0.8 s\n",
      "Time spent parsing VCF:                         0.0 s\n",
      "Time spent selecting reads:                     0.1 s\n",
      "Time spent phasing:                             0.4 s\n",
      "Time spent writing VCF:                         0.0 s\n",
      "Time spent finding components:                  0.0 s\n",
      "Time spent on rest:                             0.0 s\n",
      "Total elapsed time:                             1.3 s\n"
     ]
    },
    {
     "name": "stdout",
     "output_type": "stream",
     "text": [
      "Phased VCF: vcf/pacbio.phased.vcf.gz\n"
     ]
    }
   ],
   "source": [
    "%%bash\n",
    "set -euo pipefail\n",
    "THREADS=${THREADS:-4}\n",
    "mkdir -p phase\n",
    "\n",
    "have() { command -v \"$1\" >/dev/null 2>&1; }\n",
    "\n",
    "# Install whatshap if missing (Python package)\n",
    "if ! have whatshap; then\n",
    "  pip install --quiet --no-input whatshap\n",
    "fi\n",
    "\n",
    "for SAMPLE in illumina pacbio; do\n",
    "  BAM=align/${SAMPLE}.chr10.bam\n",
    "  VCF_IN=vcf/${SAMPLE}.vcf.gz\n",
    "  VCF_OUT=vcf/${SAMPLE}.phased.vcf\n",
    "\n",
    "  # Read-backed phasing; --ignore-read-groups avoids RG requirements\n",
    "  # VCF is already chr10-only; adding --chromosome for clarity\n",
    "  whatshap phase \\\n",
    "    --ignore-read-groups \\\n",
    "    --indels \\\n",
    "    --chromosome chr10 \\\n",
    "    --reference refs/chr10.fa \\\n",
    "    -o \"$VCF_OUT\" \\\n",
    "    \"$VCF_IN\" \"$BAM\"\n",
    "\n",
    "  bgzip -f \"$VCF_OUT\"\n",
    "  tabix -p vcf \"${VCF_OUT}.gz\"\n",
    "\n",
    "  echo \"Phased VCF: ${VCF_OUT}.gz\"\n",
    "done"
   ]
  },
  {
   "cell_type": "markdown",
   "id": "bf033383",
   "metadata": {},
   "source": [
    "Comparing phased VCFs"
   ]
  },
  {
   "cell_type": "code",
   "execution_count": 48,
   "id": "3eb7dc05",
   "metadata": {},
   "outputs": [
    {
     "name": "stdout",
     "output_type": "stream",
     "text": [
      "Chosen loci (put these into IGV's search box):\n",
      "     1\tchr10:94772788-94772788\n",
      "     2\tchr10:94772850-94772850\n",
      "     3\tchr10:94779566-94779566\n"
     ]
    }
   ],
   "source": [
    "%%bash\n",
    "set -euo pipefail\n",
    "mkdir -p igv isec\n",
    "\n",
    "# Make sure isec outputs exist (from your earlier step)\n",
    "if [ ! -s isec/0002.vcf.gz ]; then\n",
    "  bcftools isec -p isec -Oz vcf/illumina.phased.vcf.gz vcf/pacbio.phased.vcf.gz\n",
    "fi\n",
    "\n",
    "# Helper to extract loci in IGV-friendly \"chr:pos-pos\"\n",
    "loci_from_vcf() {\n",
    "  local vcf=\"$1\" n=\"$2\" vartype=\"${3:-all}\"\n",
    "  if [ \"$vartype\" = snp ]; then\n",
    "    bcftools view -H -v snps \"$vcf\" | head -n \"$n\" | awk '{print $1\":\"$2\"-\"$2}'\n",
    "  elif [ \"$vartype\" = indel ]; then\n",
    "    bcftools view -H -v indels \"$vcf\" | head -n \"$n\" | awk '{print $1\":\"$2\"-\"$2}'\n",
    "  else\n",
    "    zgrep -v '^#' \"$vcf\" | head -n \"$n\" | awk '{print $1\":\"$2\"-\"$2}'\n",
    "  fi\n",
    "}\n",
    "\n",
    "# Choose 2 Illumina-only SNVs, 1 PacBio-only INDEL (fallbacks if empty)\n",
    "ILL_SNPS=\"$(loci_from_vcf isec/0000.vcf.gz 2 snp || true)\"\n",
    "PB_INDEL=\"$(loci_from_vcf isec/0001.vcf.gz 1 indel || true)\"\n",
    "\n",
    "# Fallbacks\n",
    "if [ -z \"$ILL_SNPS\" ]; then ILL_SNPS=\"$(loci_from_vcf isec/0000.vcf.gz 2 all || true)\"; fi\n",
    "if [ -z \"$PB_INDEL\" ]; then PB_INDEL=\"$(loci_from_vcf isec/0001.vcf.gz 1 all || true)\"; fi\n",
    "\n",
    "# Assemble list (remove blanks/dups)\n",
    "{\n",
    "  echo \"$ILL_SNPS\"\n",
    "  echo \"$PB_INDEL\"\n",
    "} | sed '/^$/d' | awk '!seen[$0]++' > igv/sites.txt\n",
    "\n",
    "echo \"Chosen loci (put these into IGV's search box):\"\n",
    "nl -ba igv/sites.txt"
   ]
  },
  {
   "cell_type": "code",
   "execution_count": 49,
   "id": "9f202500",
   "metadata": {},
   "outputs": [
    {
     "name": "stdout",
     "output_type": "stream",
     "text": [
      "site\tillumina_GT\tillumina_DP\tillumina_AD\tpacbio_GT\tpacbio_DP\tpacbio_AD\n",
      "chr10:94772788-94772788\t.\t.\t.\t.\t.\t.\n",
      "chr10:94772850-94772850\t.\t.\t.\t.\t.\t.\n",
      "chr10:94779566-94779566\t.\t.\t.\t.\t.\t.\n",
      "\n",
      "Preview:\n",
      "site                     illumina_GT  illumina_DP  illumina_AD  pacbio_GT  pacbio_DP  pacbio_AD\n",
      "chr10:94772788-94772788  .            .            .            .          .          .\n",
      "chr10:94772850-94772850  .            .            .            .          .          .\n",
      "chr10:94779566-94779566  .            .            .            .          .          .\n"
     ]
    }
   ],
   "source": [
    "%%bash\n",
    "set -euo pipefail\n",
    "[ -s igv/sites.txt ] || { echo \"No igv/sites.txt; run the previous cell first.\"; exit 1; }\n",
    "\n",
    "{\n",
    "  echo -e \"site\\tillumina_GT\\tillumina_DP\\tillumina_AD\\tpacbio_GT\\tpacbio_DP\\tpacbio_AD\"\n",
    "  while read -r site; do\n",
    "    ill=\"$(bcftools query -f '%GT\\t%DP\\t%AD\\n' -r \"$site\" vcf/illumina.phased.vcf.gz 2>/dev/null || true)\"\n",
    "    [ -z \"$ill\" ] && ill=\".\t.\t.\"\n",
    "    pb=\"$(bcftools query -f '%GT\\t%DP\\t%AD\\n' -r \"$site\" vcf/pacbio.phased.vcf.gz 2>/dev/null || true)\"\n",
    "    [ -z \"$pb\" ] && pb=\".\t.\t.\"\n",
    "    echo -e \"$site\\t$ill\\t$pb\"\n",
    "  done < igv/sites.txt\n",
    "} | tee isec/discordant_summary.tsv\n",
    "\n",
    "echo\n",
    "echo \"Preview:\"\n",
    "column -t isec/discordant_summary.tsv | sed 's/\\t/  /g'"
   ]
  },
  {
   "cell_type": "markdown",
   "id": "81355c28",
   "metadata": {},
   "source": [
    "### IGV screenshots (discordant variants)\n",
    "\n",
    "Illumina-only 94772788-94772788\n",
    "![](igv/snaps/illumina_only_94772788-94772788.png)\n",
    "\n",
    "Illumina-only 94772850-94772850\n",
    "![](igv/snaps/illumina_only_94772850-94772850.png)\n",
    "\n",
    "PacBio-illumina 94779566-94779566\n",
    "![](igv/snaps/pacbio_illumina_94779566-94779566.png)"
   ]
  },
  {
   "cell_type": "markdown",
   "id": "a7189ae5",
   "metadata": {},
   "source": [
    "From these screen shots we can see\n",
    "\n",
    "From image one 94,772,788:\n",
    "Illumina: strong, consistent ALT pileup; high apparent MQ; minimal clipping.  \n",
    "- PacBio: no reads over the base.  \n",
    "- Conclusion: Likely a true SNV supported by Illumina; PacBio missed it due to local coverage dropout.\n",
    "\n",
    "From image two 94,772,850:\n",
    "- Illumina: clean, repeated ALT signal; good coverage; minimal clipping.  \n",
    "- PacBio: no overlap.  \n",
    "- Conclusion: Same as above — likely real SNV; PacBio lacks coverage at this locus.\n",
    "\n",
    "From image three 94,779,566:\n",
    "- PacBio: consistent indel across many long reads in a poly-T context (purple indel glyphs).  \n",
    "- Illumina: scattered mismatches/soft-clipping; no clear indel representation.  \n",
    "- Conclusion: Likely a true indel captured by long reads; short reads struggle in homopolymers."
   ]
  },
  {
   "cell_type": "code",
   "execution_count": 51,
   "id": "ede0152a",
   "metadata": {},
   "outputs": [
    {
     "name": "stdout",
     "output_type": "stream",
     "text": [
      "Wrote week5_data/star_markers.hg38.tsv\n"
     ]
    }
   ],
   "source": [
    "%%bash\n",
    "# Create star allele marker file\n",
    "set -euo pipefail\n",
    "mkdir -p week5_data\n",
    "\n",
    "cat > week5_data/star_markers.hg38.tsv <<'EOF'\n",
    "gene\tstar\trsid\tchr\tpos\tref\talt\tnotes\n",
    "CYP2C19\t*2\trs4244285\tchr10\t94781859\tG\tA\tLOF splice; defines *2\n",
    "CYP2C19\t*3\trs4986893\tchr10\t94780653\tG\tA\tLOF stop; defines *3\n",
    "CYP2C19\t*17\trs12248560\tchr10\t94761900\tC\tT\tPromoter; increased function *17\n",
    "\n",
    "CYP2C9\t*2\trs1799853\tchr10\t94942290\tC\tT\tR144C; defines *2\n",
    "CYP2C9\t*3\trs1057910\tchr10\t94942215\tA\tC\tI359L; defines *3\n",
    "\n",
    "# CYP2C8: *3 is a 2-marker haplotype; both must be on the SAME haplotype\n",
    "CYP2C8\t*2\trs11572103\tchr10\t95058349\tT\tA\tI269F; defines *2\n",
    "CYP2C8\t*3a\trs11572080\tchr10\t95067273\tG\tA\tR139K; with rs10509681\n",
    "CYP2C8\t*3b\trs10509681\tchr10\t95038992\tA\tG\tK399R; with rs11572080\n",
    "CYP2C8\t*4\trs1058930\tchr10\t95058362\tG\tC\tI264M; defines *4\n",
    "EOF\n",
    "\n",
    "echo \"Wrote week5_data/star_markers.hg38.tsv\""
   ]
  },
  {
   "cell_type": "code",
   "execution_count": 53,
   "id": "46d72df4",
   "metadata": {},
   "outputs": [
    {
     "name": "stdout",
     "output_type": "stream",
     "text": [
      "### Star-allele diplotype calls (from phased VCFs)\n",
      "\n",
      "CYP2C19:\n",
      "  - illumina: *1/*17\n",
      "  - pacbio  : *1/*17\n",
      "\n",
      "CYP2C8:\n",
      "  - illumina: *1/*2\n",
      "  - pacbio  : *1/*2\n",
      "\n",
      "CYP2C9:\n",
      "  - illumina: *1/*1\n",
      "  - pacbio  : *1/*1\n"
     ]
    }
   ],
   "source": [
    "# Lightweight star-caller using your phased VCFs \n",
    "import subprocess, shlex, csv, pathlib, sys\n",
    "from collections import defaultdict\n",
    "\n",
    "VCFS = {\n",
    "    \"illumina\": \"vcf/illumina.phased.vcf.gz\",\n",
    "    \"pacbio\"  : \"vcf/pacbio.phased.vcf.gz\",\n",
    "}\n",
    "\n",
    "markers = []\n",
    "with open(\"week5_data/star_markers.hg38.tsv\") as f:\n",
    "    for row in csv.DictReader(f, delimiter=\"\\t\"):\n",
    "        if row[\"gene\"].strip() and not row[\"gene\"].startswith(\"#\"):\n",
    "            row[\"pos\"] = int(row[\"pos\"])\n",
    "            markers.append(row)\n",
    "\n",
    "def bcftools_query(vcf, chrom, pos):\n",
    "    \"\"\"Return (ref, alts, GT) for this site; defaults to reference 0|0 if absent.\"\"\"\n",
    "    fmt = r'%REF\\t%ALT\\t[%GT]\\n'\n",
    "    cmd = f\"bcftools query -r {chrom}:{pos}-{pos} -f '{fmt}' {shlex.quote(vcf)}\"\n",
    "    p = subprocess.run(cmd, shell=True, capture_output=True, text=True)\n",
    "    if p.returncode != 0 or not p.stdout.strip():\n",
    "        return None, None, \"0|0\"\n",
    "    ref, alts, gt = p.stdout.strip().split(\"\\t\")\n",
    "    return ref, alts, gt\n",
    "\n",
    "def alt_on_haps(gt):\n",
    "    \"\"\"Return (hap1_is_alt, hap2_is_alt) for biallelic sites.\"\"\"\n",
    "    if gt in (\".\", \"./.\", \".|.\"):\n",
    "        return (False, False)\n",
    "    # Expect phased: a|b ; if unphased a/b treat as present but unknown phase\n",
    "    sep = \"|\" if \"|\" in gt else \"/\"\n",
    "    a,b = gt.split(sep)\n",
    "    # For biallelic, '1' means ALT, '0' REF. (Ignore multiallelic for these markers.)\n",
    "    return (a == \"1\", b == \"1\")\n",
    "\n",
    "def call_gene(vcf_path, gene_markers):\n",
    "    \"\"\"Return haplotype-level star labels for a single gene.\"\"\"\n",
    "    # hap labels start as *1\n",
    "    hap = [\"*1\", \"*1\"]\n",
    "    notes = []\n",
    "\n",
    "    # convenience lookups\n",
    "    def set_star(h, star):\n",
    "        if hap[h] == \"*1\":\n",
    "            hap[h] = star\n",
    "        elif hap[h] != star:\n",
    "            notes.append(f\"hap{h+1} has {hap[h]} and {star} -> complex\")\n",
    "            hap[h] = hap[h] + \"+\" + star\n",
    "\n",
    "    # First pass: single-marker stars\n",
    "    presence = {}  # key: rsid -> (h1_alt, h2_alt)\n",
    "    by_rsid   = {m[\"rsid\"]: m for m in gene_markers}\n",
    "    for m in gene_markers:\n",
    "        ref, alts, gt = bcftools_query(vcf_path, m[\"chr\"], m[\"pos\"])\n",
    "        h1, h2 = alt_on_haps(gt)\n",
    "        presence[m[\"rsid\"]] = (h1, h2)\n",
    "\n",
    "        # apply simple stars immediately\n",
    "        if m[\"gene\"] == \"CYP2C19\" and m[\"star\"] in (\"*2\",\"*3\",\"*17\"):\n",
    "            if h1: set_star(0, m[\"star\"])\n",
    "            if h2: set_star(1, m[\"star\"])\n",
    "\n",
    "        if m[\"gene\"] == \"CYP2C9\" and m[\"star\"] in (\"*2\",\"*3\"):\n",
    "            if h1: set_star(0, m[\"star\"])\n",
    "            if h2: set_star(1, m[\"star\"])\n",
    "\n",
    "        if m[\"gene\"] == \"CYP2C8\" and m[\"star\"] in (\"*2\",\"*4\"):\n",
    "            if h1: set_star(0, m[\"star\"])\n",
    "            if h2: set_star(1, m[\"star\"])\n",
    "\n",
    "    # Second pass: CYP2C8 *3 requires BOTH rs11572080 and rs10509681 on the SAME haplotype\n",
    "    if gene_markers[0][\"gene\"] == \"CYP2C8\":\n",
    "        h1_a, h2_a = presence.get(\"rs11572080\", (False, False))  # *3a\n",
    "        h1_b, h2_b = presence.get(\"rs10509681\", (False, False))  # *3b\n",
    "        if h1_a and h1_b: set_star(0, \"*3\")\n",
    "        if h2_a and h2_b: set_star(1, \"*3\")\n",
    "        # If split across haps, mention it\n",
    "        if (h1_a and h2_b) or (h2_a and h1_b):\n",
    "            notes.append(\"CYP2C8 *3 markers seen on opposite haplotypes -> not *3\")\n",
    "\n",
    "    diplotype = \"/\".join(hap)\n",
    "    return diplotype, notes, presence\n",
    "\n",
    "# Run for both VCFs\n",
    "by_gene = defaultdict(list)\n",
    "for tech, vcf in VCFS.items():\n",
    "    # group markers by gene\n",
    "    genes = defaultdict(list)\n",
    "    for m in markers: genes[m[\"gene\"]].append(m)\n",
    "    for gene, gms in genes.items():\n",
    "        dip, notes, presence = call_gene(vcf, gms)\n",
    "        by_gene[gene].append((tech, dip, notes))\n",
    "\n",
    "# Pretty print summary\n",
    "print(\"### Star-allele diplotype calls (from phased VCFs)\")\n",
    "for gene, rows in sorted(by_gene.items()):\n",
    "    print(f\"\\n{gene}:\")\n",
    "    for tech, dip, notes in rows:\n",
    "        print(f\"  - {tech:8s}: {dip}\")\n",
    "        for n in notes:\n",
    "            print(f\"      note: {n}\")\n"
   ]
  },
  {
   "cell_type": "markdown",
   "id": "7953fe06",
   "metadata": {},
   "source": [
    "### Star-allele calls (from phased VCFs)\n",
    "\n",
    "**CYP2C19 → *1/*17 (Rapid metabolizer)**\n",
    "- Because: heterozygous for promoter variant **rs12248560 C>T** (defines *17).  \n",
    "- And: loss-of-function markers **rs4244285 (*2)** and **rs4986893 (*3)** are **absent** (REF on both haps).  \n",
    "- Phasing: ALT is present on exactly one haplotype in both Illumina and PacBio phased VCFs → *1/*17.\n",
    "\n",
    "**CYP2C8 → *1/*2 (decreased function allele present)**\n",
    "- Because: heterozygous for **rs11572103 T>A** (defines *2).  \n",
    "- And: *3 requires **both** rs11572080 and rs10509681 on the **same** haplotype — not observed; *4 (rs1058930) also absent.  \n",
    "- Phasing: ALT on one haplotype only → *1/*2.\n",
    "\n",
    "**CYP2C9 → *1/*1 (normal metabolizer)**\n",
    "- Because: common decreased-function alleles **rs1799853 (*2)** and **rs1057910 (*3)** are **absent** (REF/REF).\n",
    "\n",
    "**Notes.** These calls use common PharmVar/ClinPGx markers on hg38 chr10 and the **phased** VCFs so, can tell which haplotype each ALT is on. I read some star systems also consider rare variants/CNVs but I did not assess those here."
   ]
  }
 ],
 "metadata": {
  "kernelspec": {
   "display_name": "week5",
   "language": "python",
   "name": "python3"
  },
  "language_info": {
   "codemirror_mode": {
    "name": "ipython",
    "version": 3
   },
   "file_extension": ".py",
   "mimetype": "text/x-python",
   "name": "python",
   "nbconvert_exporter": "python",
   "pygments_lexer": "ipython3",
   "version": "3.12.12"
  }
 },
 "nbformat": 4,
 "nbformat_minor": 5
}
